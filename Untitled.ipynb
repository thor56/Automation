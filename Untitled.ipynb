{
 "cells": [
  {
   "cell_type": "code",
   "execution_count": 3,
   "metadata": {},
   "outputs": [],
   "source": [
    "import pandas as pd"
   ]
  },
  {
   "cell_type": "code",
   "execution_count": 15,
   "metadata": {},
   "outputs": [],
   "source": [
    "links_df = pd.read_csv(\"links.csv\")"
   ]
  },
  {
   "cell_type": "code",
   "execution_count": 16,
   "metadata": {},
   "outputs": [
    {
     "data": {
      "text/html": [
       "<div>\n",
       "<style scoped>\n",
       "    .dataframe tbody tr th:only-of-type {\n",
       "        vertical-align: middle;\n",
       "    }\n",
       "\n",
       "    .dataframe tbody tr th {\n",
       "        vertical-align: top;\n",
       "    }\n",
       "\n",
       "    .dataframe thead th {\n",
       "        text-align: right;\n",
       "    }\n",
       "</style>\n",
       "<table border=\"1\" class=\"dataframe\">\n",
       "  <thead>\n",
       "    <tr style=\"text-align: right;\">\n",
       "      <th></th>\n",
       "      <th>links</th>\n",
       "    </tr>\n",
       "  </thead>\n",
       "  <tbody>\n",
       "    <tr>\n",
       "      <th>0</th>\n",
       "      <td>https://www.amazon.com/dp/B01HK0W01E/ref=as_li...</td>\n",
       "    </tr>\n",
       "    <tr>\n",
       "      <th>1</th>\n",
       "      <td>https://www.amazon.com/dp/B072N8XJ1T/ref=as_li...</td>\n",
       "    </tr>\n",
       "    <tr>\n",
       "      <th>2</th>\n",
       "      <td>https://www.amazon.com/Dr-Martens-Chukka-Mediu...</td>\n",
       "    </tr>\n",
       "    <tr>\n",
       "      <th>3</th>\n",
       "      <td>https://www.amazon.com/Dr-Martens-Collection-U...</td>\n",
       "    </tr>\n",
       "    <tr>\n",
       "      <th>4</th>\n",
       "      <td>https://www.amazon.com/dp/B074YVKRP6/ref=as_li...</td>\n",
       "    </tr>\n",
       "    <tr>\n",
       "      <th>5</th>\n",
       "      <td>https://www.amazon.com/dp/B0741QN8M7/ref=as_li...</td>\n",
       "    </tr>\n",
       "    <tr>\n",
       "      <th>6</th>\n",
       "      <td>https://www.amazon.com/dp/B07B9CN83Q/ref=as_li...</td>\n",
       "    </tr>\n",
       "  </tbody>\n",
       "</table>\n",
       "</div>"
      ],
      "text/plain": [
       "                                               links\n",
       "0  https://www.amazon.com/dp/B01HK0W01E/ref=as_li...\n",
       "1  https://www.amazon.com/dp/B072N8XJ1T/ref=as_li...\n",
       "2  https://www.amazon.com/Dr-Martens-Chukka-Mediu...\n",
       "3  https://www.amazon.com/Dr-Martens-Collection-U...\n",
       "4  https://www.amazon.com/dp/B074YVKRP6/ref=as_li...\n",
       "5  https://www.amazon.com/dp/B0741QN8M7/ref=as_li...\n",
       "6  https://www.amazon.com/dp/B07B9CN83Q/ref=as_li..."
      ]
     },
     "execution_count": 16,
     "metadata": {},
     "output_type": "execute_result"
    }
   ],
   "source": [
    "links_df"
   ]
  },
  {
   "cell_type": "code",
   "execution_count": 18,
   "metadata": {},
   "outputs": [
    {
     "data": {
      "text/plain": [
       "links    object\n",
       "dtype: object"
      ]
     },
     "execution_count": 18,
     "metadata": {},
     "output_type": "execute_result"
    }
   ],
   "source": [
    "links_df.dtypes"
   ]
  },
  {
   "cell_type": "code",
   "execution_count": 54,
   "metadata": {},
   "outputs": [
    {
     "data": {
      "text/plain": [
       "0    https://www.amazon.com/dp/B01HK0W01E/ref=as_li...\n",
       "1    https://www.amazon.com/dp/B072N8XJ1T/ref=as_li...\n",
       "2    https://www.amazon.com/Dr-Martens-Chukka-Mediu...\n",
       "3    https://www.amazon.com/Dr-Martens-Collection-U...\n",
       "4    https://www.amazon.com/dp/B074YVKRP6/ref=as_li...\n",
       "5    https://www.amazon.com/dp/B0741QN8M7/ref=as_li...\n",
       "6    https://www.amazon.com/dp/B07B9CN83Q/ref=as_li...\n",
       "Name: links, dtype: object"
      ]
     },
     "execution_count": 54,
     "metadata": {},
     "output_type": "execute_result"
    }
   ],
   "source": [
    "links_df.links"
   ]
  },
  {
   "cell_type": "code",
   "execution_count": 58,
   "metadata": {},
   "outputs": [],
   "source": [
    "lis3 = [[1,2,3],[4,5,6],[7,8,9]]\n",
    "\n",
    "links_df2 = pd.DataFrame(lis3, columns=['url','image','title'])\n",
    "links_df = links_df.append(links_df2, ignore_index=True)\n",
    "\n",
    "links_df2.to_csv('output2.csv')\n",
    "links_df.to_csv('output.csv')"
   ]
  },
  {
   "cell_type": "code",
   "execution_count": null,
   "metadata": {},
   "outputs": [],
   "source": []
  }
 ],
 "metadata": {
  "kernelspec": {
   "display_name": "Python 3",
   "language": "python",
   "name": "python3"
  },
  "language_info": {
   "codemirror_mode": {
    "name": "ipython",
    "version": 3
   },
   "file_extension": ".py",
   "mimetype": "text/x-python",
   "name": "python",
   "nbconvert_exporter": "python",
   "pygments_lexer": "ipython3",
   "version": "3.8.4"
  }
 },
 "nbformat": 4,
 "nbformat_minor": 4
}
